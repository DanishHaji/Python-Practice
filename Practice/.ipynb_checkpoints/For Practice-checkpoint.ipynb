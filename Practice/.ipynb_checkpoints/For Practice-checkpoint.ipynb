{
 "cells": [
  {
   "cell_type": "markdown",
   "id": "58b45ab7",
   "metadata": {},
   "source": [
    "### Basic Assignment:\n",
    "\n",
    "Create a variable named temperature and assign it a value of 25. Print the variable."
   ]
  },
  {
   "cell_type": "code",
   "execution_count": 1,
   "id": "836fa48c",
   "metadata": {},
   "outputs": [
    {
     "name": "stdout",
     "output_type": "stream",
     "text": [
      "25\n"
     ]
    }
   ],
   "source": [
    "temperature = 25\n",
    "print(temperature)"
   ]
  },
  {
   "cell_type": "markdown",
   "id": "6a0b7778",
   "metadata": {},
   "source": [
    "### Changing Values:\n",
    "\n",
    "Create a variable named name and assign it your name. Then, change the value of name to a different name and print the new value."
   ]
  },
  {
   "cell_type": "code",
   "execution_count": 5,
   "id": "7bb87d52",
   "metadata": {},
   "outputs": [
    {
     "name": "stdout",
     "output_type": "stream",
     "text": [
      "Ali\n"
     ]
    }
   ],
   "source": [
    "name = \"Danish\"\n",
    "name = \"Ali\"\n",
    "print(name)"
   ]
  },
  {
   "cell_type": "markdown",
   "id": "1cf3ce3b",
   "metadata": {},
   "source": [
    "### Simple Data Types:\n",
    "\n",
    "Create variables for age (an integer), height (a float), and city (a string). Assign appropriate values and print each variable."
   ]
  },
  {
   "cell_type": "code",
   "execution_count": 5,
   "id": "b723e63b",
   "metadata": {
    "scrolled": true
   },
   "outputs": [
    {
     "name": "stdout",
     "output_type": "stream",
     "text": [
      "My name is Danish, my age is 32, my height is 5.8 and I live in Karachi.\n"
     ]
    }
   ],
   "source": [
    "name = \"Danish\"\n",
    "age = 32\n",
    "height = 5.8\n",
    "city = \"Karachi\"\n",
    "print(f\"My name is {name}, my age is {age}, my height is {height} and I live in {city}.\")"
   ]
  },
  {
   "cell_type": "markdown",
   "id": "0e543a9b-82ed-4bfa-9ff4-810f79b42275",
   "metadata": {},
   "source": [
    "### Concatenation:\n",
    "\n",
    "Create two string variables, first_name and last_name. Assign your first name to first_name and your last name to last_name. Concatenate these two variables with a space in between and print the result."
   ]
  },
  {
   "cell_type": "code",
   "execution_count": 10,
   "id": "a15b8cc9-b996-427e-9abc-e7662c078a61",
   "metadata": {},
   "outputs": [
    {
     "name": "stdout",
     "output_type": "stream",
     "text": [
      "Danish Haji\n"
     ]
    }
   ],
   "source": [
    "first_name = \"Danish\"\n",
    "last_name = \"Haji\"\n",
    "print(first_name +\" \"+ last_name)"
   ]
  },
  {
   "cell_type": "markdown",
   "id": "af0c4acc-eb4f-4fbb-bebe-31a2f18a0a3a",
   "metadata": {},
   "source": [
    "### Basic Arithmetic:\n",
    "\n",
    "Create two variables, x and y, and assign them integer values. Compute their sum and print the result."
   ]
  },
  {
   "cell_type": "code",
   "execution_count": 19,
   "id": "a0f91736-3cf4-4292-8f73-17705ad8b737",
   "metadata": {},
   "outputs": [
    {
     "name": "stdout",
     "output_type": "stream",
     "text": [
      "The sum of x and y is 20\n"
     ]
    }
   ],
   "source": [
    "x = 10\n",
    "y = 10\n",
    "total = x+y\n",
    "print(\"The sum of x and y is\", total)"
   ]
  },
  {
   "cell_type": "markdown",
   "id": "ce7ef71e-563b-45e3-ab90-66eb9404f265",
   "metadata": {},
   "source": [
    "### Variable Type:\n",
    "\n",
    "Create a variable value with the string \"Hello\". Use the type() function to print the type of value."
   ]
  },
  {
   "cell_type": "code",
   "execution_count": 22,
   "id": "74674c8c-ab10-4c86-8a6a-18a978f9ea3d",
   "metadata": {},
   "outputs": [
    {
     "name": "stdout",
     "output_type": "stream",
     "text": [
      "<class 'str'>\n"
     ]
    }
   ],
   "source": [
    "greet = \"Hello\"\n",
    "print(type(greet))"
   ]
  },
  {
   "cell_type": "markdown",
   "id": "b1f7b934-c0db-437c-9a2f-99b292124aa1",
   "metadata": {},
   "source": [
    "### Multiple Assignment:\n",
    "\n",
    "Assign the same value to multiple variables in one line. For example, assign 10 to a, b, and c. Print each variable."
   ]
  },
  {
   "cell_type": "code",
   "execution_count": 29,
   "id": "c4666d40-92a1-444a-8cdc-b9227e77d21c",
   "metadata": {},
   "outputs": [
    {
     "name": "stdout",
     "output_type": "stream",
     "text": [
      "The value of a : 10\n",
      "The value of b : 10\n",
      "The value of c : 10\n"
     ]
    }
   ],
   "source": [
    "a = b = c = 10\n",
    "print(\"The value of a :\", a)\n",
    "print(\"The value of b :\", b)\n",
    "print(\"The value of c :\", c)"
   ]
  },
  {
   "cell_type": "markdown",
   "id": "d29360f7-cc46-46eb-981d-067ef11b7ed3",
   "metadata": {},
   "source": [
    "### Temperature Conversion:\n",
    "\n",
    "Write a program that converts a temperature given in Celsius to Fahrenheit.\n",
    "Create a variable for Celsius, assign it a value, perform the conversion, and print the Fahrenheit temperature."
   ]
  },
  {
   "cell_type": "code",
   "execution_count": 40,
   "id": "01973ee8-896f-46b8-991d-d4bebda6ef13",
   "metadata": {},
   "outputs": [
    {
     "name": "stdin",
     "output_type": "stream",
     "text": [
      "Enter Celsius Temperature : 44\n"
     ]
    },
    {
     "name": "stdout",
     "output_type": "stream",
     "text": [
      "The Fahrenheit Temperature is  111.2\n"
     ]
    }
   ],
   "source": [
    "celsius = c\n",
    "c = int(input(\"Enter Celsius Temperature :\"))\n",
    "Fahrenheit = (c * 9/5) + 32\n",
    "print(\"The Fahrenheit Temperature is \" , Fahrenheit)"
   ]
  },
  {
   "cell_type": "markdown",
   "id": "6e5dad8a-a3c8-41e3-9c60-154ad4483064",
   "metadata": {},
   "source": [
    "### Area of a Rectangle:\n",
    "Create variables length and width to store the dimensions of a rectangle. Assign them values, calculate the area (length \n",
    "× width), and print the result."
   ]
  },
  {
   "cell_type": "code",
   "execution_count": 43,
   "id": "59c472f0-39b2-4b78-9b28-ec06e815a0d6",
   "metadata": {},
   "outputs": [
    {
     "name": "stdout",
     "output_type": "stream",
     "text": [
      "The Area of Rectangle is 200\n"
     ]
    }
   ],
   "source": [
    "length = 20\n",
    "width = 10\n",
    "area = (length*width)\n",
    "print(f\"The Area of Rectangle is\", area)"
   ]
  },
  {
   "cell_type": "markdown",
   "id": "a51f5f7c-0504-44b0-ae57-992f2445bfed",
   "metadata": {},
   "source": [
    "### Simple Interest Calculation:\n",
    "Write a program to calculate simple interest using the formula:\n",
    "Assign values to the principal, rate, and time, and calculate and print the interest."
   ]
  },
  {
   "cell_type": "code",
   "execution_count": 62,
   "id": "ff652ffc-935a-4116-bcd5-e5e3f61657a4",
   "metadata": {},
   "outputs": [
    {
     "name": "stdout",
     "output_type": "stream",
     "text": [
      "The Simple Interest of the Required Amount is : 144.0\n"
     ]
    }
   ],
   "source": [
    "principal_amount = 12000\n",
    "interest_rate = 0.1\n",
    "time = 12\n",
    "interest = (principal_amount*interest_rate*time)/100\n",
    "print(f\"The Simple Interest of the Required Amount is :\", interest)\n"
   ]
  },
  {
   "cell_type": "markdown",
   "id": "824a49b8-1a03-419d-b40c-bd2dbf2b21a6",
   "metadata": {},
   "source": [
    "### Swapping Values:\n",
    "Create two variables, a and b, and assign them integer values. Swap their values without using a third variable, and print the new values of a and b."
   ]
  },
  {
   "cell_type": "code",
   "execution_count": 66,
   "id": "b2bacf30-9995-4e5c-a64d-b5711df97f02",
   "metadata": {},
   "outputs": [
    {
     "name": "stdout",
     "output_type": "stream",
     "text": [
      "After Swapping\n",
      "Value of a :  2\n",
      "Value of b :  4\n"
     ]
    }
   ],
   "source": [
    "# old values\n",
    "a = 4\n",
    "b = 2\n",
    "\n",
    "# using arithmetic operating swapping the values\n",
    "a = a+b #(Now a is 6)\n",
    "b = a-b #(now b is 4)\n",
    "a = a-b #(now a is 2)\n",
    "\n",
    "print(\"After Swapping\")\n",
    "print(\"Value of a : \", a)\n",
    "print(\"Value of b : \", b)"
   ]
  },
  {
   "cell_type": "markdown",
   "id": "47816ff2-2267-4495-b1fa-20577a2d70b4",
   "metadata": {},
   "source": [
    "### Simple Concatenation: \n",
    "Concatenate the strings \"Good\" and \"Morning\" and print the result."
   ]
  },
  {
   "cell_type": "code",
   "execution_count": 5,
   "id": "176264a1-c759-4f7e-a4d2-00cac3da530e",
   "metadata": {},
   "outputs": [
    {
     "name": "stdout",
     "output_type": "stream",
     "text": [
      "GoodMorning\n",
      "HelloWorld\n",
      "HiDanish\n"
     ]
    }
   ],
   "source": [
    "print(\"Good\" + \"Morning\")\n",
    "print(\"Hello\" + \"World\")\n",
    "print(\"Hi\" + \"Danish\")"
   ]
  },
  {
   "cell_type": "markdown",
   "id": "920196c7-2660-4426-8c8c-efde7ab450d8",
   "metadata": {},
   "source": [
    "### Concatenate with Separator:\n",
    "Concatenate the strings \"John\" and \"Doe\" with a space in between and print the result."
   ]
  },
  {
   "cell_type": "code",
   "execution_count": 12,
   "id": "0b9f3f02-1ca5-4fc4-8601-6ed759fb8c8b",
   "metadata": {},
   "outputs": [
    {
     "name": "stdout",
     "output_type": "stream",
     "text": [
      "John Doe\n"
     ]
    }
   ],
   "source": [
    "print(\"John\"+\" \"+\"Doe\")"
   ]
  },
  {
   "cell_type": "markdown",
   "id": "1f46cceb-1df8-458f-9946-fad98514f389",
   "metadata": {},
   "source": [
    "### Repetition and Concatenation:\n",
    "Concatenate the string \"abc\" repeated 4 times and print the result."
   ]
  },
  {
   "cell_type": "code",
   "execution_count": 27,
   "id": "ac76f215-bd43-414a-a4e4-e4839990b526",
   "metadata": {},
   "outputs": [
    {
     "name": "stdout",
     "output_type": "stream",
     "text": [
      "abc abc abc abc\n"
     ]
    }
   ],
   "source": [
    "repeat = \"abc\"\n",
    "print(repeat,repeat,repeat,repeat)"
   ]
  },
  {
   "cell_type": "markdown",
   "id": "f036b765-5918-4210-ade2-a29fc29bc5b3",
   "metadata": {},
   "source": [
    "### String and Integer Concatenation:\n",
    "Concatenate the string \"Year: \" with the integer 2024. Convert the integer to a string first and print the result."
   ]
  },
  {
   "cell_type": "code",
   "execution_count": 30,
   "id": "662bcf4c-e2ca-4df3-b008-14c08151251f",
   "metadata": {},
   "outputs": [
    {
     "name": "stdout",
     "output_type": "stream",
     "text": [
      "The year is : 2024\n"
     ]
    }
   ],
   "source": [
    "year = 2024\n",
    "print(f'The year is : {year}')"
   ]
  },
  {
   "cell_type": "markdown",
   "id": "05c77f6d-9676-4304-a174-6c185f259845",
   "metadata": {},
   "source": [
    "## Conditional Statements"
   ]
  },
  {
   "cell_type": "markdown",
   "id": "e997dcdc-c4f9-43ad-868e-a697a55e281a",
   "metadata": {},
   "source": [
    "### if-else"
   ]
  },
  {
   "cell_type": "markdown",
   "id": "9b944c32-0fc6-4c91-8730-ec5cd1fcded9",
   "metadata": {},
   "source": [
    "#### Age Check:\n",
    "Write a program to check if a person is eligible to vote based on their age (voting age is 18). Print \"Eligible to vote\" if the person is 18 or older, otherwise print \"Not eligible to vote.\""
   ]
  },
  {
   "cell_type": "code",
   "execution_count": 80,
   "id": "6fc90f13-5a8a-4106-829d-a4c06e1c0f05",
   "metadata": {},
   "outputs": [
    {
     "name": "stdin",
     "output_type": "stream",
     "text": [
      "Enter your age:  21\n"
     ]
    },
    {
     "name": "stdout",
     "output_type": "stream",
     "text": [
      "Eligible to vote\n"
     ]
    }
   ],
   "source": [
    "age = int(input(\"Enter your age: \"))\n",
    "if age < 18:\n",
    "        print(\"Not eligible to vote\")\n",
    "else:\n",
    "    print(\"Eligible to vote\")"
   ]
  },
  {
   "cell_type": "markdown",
   "id": "364055ad-e06d-400c-9907-41ae842bc314",
   "metadata": {},
   "source": [
    "#### Temperature Warning:\n",
    "Write a program to check the temperature and print a warning message. If the temperature is below 0°C, print \"Freezing cold! Wear warm clothes.\" If it’s between 0°C and 20°C, print \"Cool weather. A light jacket is recommended.\" If it’s above 20°C, print \"Warm weather. No jacket needed.\""
   ]
  },
  {
   "cell_type": "code",
   "execution_count": 101,
   "id": "555a4581-08dc-4974-8ba5-7bd1f47713ba",
   "metadata": {},
   "outputs": [
    {
     "name": "stdin",
     "output_type": "stream",
     "text": [
      "Enter Temperture:  50\n"
     ]
    },
    {
     "name": "stdout",
     "output_type": "stream",
     "text": [
      "Warm weather. No jacket needed.\n"
     ]
    }
   ],
   "source": [
    "input_temp = float(input(\"Enter Temperture: \"))\n",
    "if (input_temp <= 0):\n",
    "    print(\"Freezing cold! Wear warm clothes.\")\n",
    "elif 0 <= input_temp <= 20:\n",
    "    print(\"Cool weather. A light jacket is recommended.\")\n",
    "else:\n",
    "    print(\"Warm weather. No jacket needed.\")"
   ]
  },
  {
   "cell_type": "markdown",
   "id": "17b8d93a-3f2e-4113-b906-a7c4851c8fb8",
   "metadata": {},
   "source": [
    "#### Grade Classification:\n",
    "Write a program to classify a student's grade. If the grade is 90 or above, print \"Excellent.\" If it’s between 70 and 89, print \"Good.\" If it’s between 50 and 69, print \"Pass.\" If it’s below 50, print \"Fail.\""
   ]
  },
  {
   "cell_type": "code",
   "execution_count": 126,
   "id": "700318f5-7f25-4954-bf76-5a68f26fdabf",
   "metadata": {},
   "outputs": [
    {
     "name": "stdin",
     "output_type": "stream",
     "text": [
      "Enter your grade:  78\n"
     ]
    },
    {
     "name": "stdout",
     "output_type": "stream",
     "text": [
      "Good\n"
     ]
    }
   ],
   "source": [
    "in_grade = float(input(\"Enter your grade: \"))\n",
    "if (in_grade >= 90):\n",
    "    print(\"Excellent\")\n",
    "elif 70 <= in_grade < 89:\n",
    "    print(\"Good\")\n",
    "elif 50 <= in_grade < 69:\n",
    "    print(\"Pass\")\n",
    "else:\n",
    "    print(\"Fail\")"
   ]
  },
  {
   "cell_type": "markdown",
   "id": "b27c1a26-b5e3-4b11-bd81-97386f27ea73",
   "metadata": {},
   "source": [
    "#### Even or Odd:\n",
    "Write a program to check if a number is even or odd. Print \"Even number\" if the number is divisible by 2, otherwise print \"Odd number.\""
   ]
  },
  {
   "cell_type": "code",
   "execution_count": 131,
   "id": "44a23aff-8efe-42c6-92ca-636b768bf1dc",
   "metadata": {},
   "outputs": [
    {
     "name": "stdin",
     "output_type": "stream",
     "text": [
      "Enter the Number 3\n"
     ]
    },
    {
     "name": "stdout",
     "output_type": "stream",
     "text": [
      "Odd number\n"
     ]
    }
   ],
   "source": [
    "number = int(input(\"Enter the Number\"))\n",
    "if number % 2 == 0:\n",
    "    print (\"Evern number\")\n",
    "else:\n",
    "    print(\"Odd number\")"
   ]
  },
  {
   "cell_type": "markdown",
   "id": "c55e7788-2ee9-4c3b-8a07-31e4f77a8c56",
   "metadata": {},
   "source": [
    "## Nested if-else and elif"
   ]
  },
  {
   "cell_type": "markdown",
   "id": "d55000b6-f59d-4f1d-8771-68fe1d886315",
   "metadata": {},
   "source": [
    "##### Exercise 1: Grade Calculator\n",
    "Question:\n",
    "Write a program that takes a student's score as input and prints the corresponding grade based on the following criteria:\n",
    "A: 90-100\n",
    "B: 80-89\n",
    "C: 70-79\n",
    "D: 60-69\n",
    "F: Below 60\n",
    "Make sure to handle cases where the input score is outside the range of 0 to 100."
   ]
  },
  {
   "cell_type": "code",
   "execution_count": 30,
   "id": "d3b0065d-5681-4ee7-8383-01354955e1c2",
   "metadata": {},
   "outputs": [
    {
     "name": "stdin",
     "output_type": "stream",
     "text": [
      "Enter you score 112\n"
     ]
    },
    {
     "name": "stdout",
     "output_type": "stream",
     "text": [
      "Invalid score, Please enter a score between 0 to 100\n"
     ]
    }
   ],
   "source": [
    "student_score = input(\"Enter you score\")\n",
    "if student_score.isdigit():\n",
    "    student_score = int(student_score)\n",
    "    if 0 <= student_score <= 100:\n",
    "        if student_score >= 90 and student_score <= 100:\n",
    "            print(\"Grade A\")\n",
    "        elif 80 <= student_score <= 89:\n",
    "            print(\"Grade B\")\n",
    "        elif 70 <= student_score <= 79:\n",
    "            print(\"Grade C\")\n",
    "        elif 60 <= student_score <= 69:\n",
    "            print(\"Grade D\")\n",
    "        else:\n",
    "            print(\"Fail\")\n",
    "    else:\n",
    "        print(\"Invalid score, Please enter a score between 0 to 100\")\n",
    "else:\n",
    "    print(\"Invalid input, Please enter a numeric score\")"
   ]
  },
  {
   "cell_type": "markdown",
   "id": "76916844-5f3b-4636-9be5-e423b035f77e",
   "metadata": {},
   "source": [
    "#### Exercise 2: Leap Year Checker\n",
    "Question:\n",
    "\n",
    "Write a program that checks if a given year is a leap year. A year is a leap year if:\n",
    "\n",
    "It is divisible by 4,\n",
    "Except for years that are divisible by 100,\n",
    "Unless they are also divisible by 400."
   ]
  },
  {
   "cell_type": "code",
   "execution_count": 54,
   "id": "f931b86b-a4d3-400d-86fc-bf1969f7ff2d",
   "metadata": {},
   "outputs": [
    {
     "name": "stdin",
     "output_type": "stream",
     "text": [
      "Enter the year 1900\n"
     ]
    },
    {
     "name": "stdout",
     "output_type": "stream",
     "text": [
      "Entered year is not a leap year\n"
     ]
    }
   ],
   "source": [
    "year = int(input(\"Enter the year\"))\n",
    "if year % 4 == 0:\n",
    "    if year % 100 == 0:\n",
    "        if year % 400 == 0:\n",
    "            print(\"Entered year is a leap year\")\n",
    "        else:\n",
    "            print(\"Entered year is not a leap year\")\n",
    "    else:\n",
    "        print(\"Entered year is not a leap year\")\n",
    "else:\n",
    "    print(\"Entered year is not a leap year\")"
   ]
  },
  {
   "cell_type": "markdown",
   "id": "9be75462-e47d-4fbd-8009-042a7eec53b1",
   "metadata": {},
   "source": [
    "#### Exercise 3: Number Classification\n",
    "Question:\n",
    "\n",
    "Write a program that takes an integer as input and classifies it as positive, negative, or zero. If the number is positive, further classify it as even or odd."
   ]
  },
  {
   "cell_type": "code",
   "execution_count": 65,
   "id": "dd7b67b6-ad4f-4617-9b64-5c001535f3bc",
   "metadata": {},
   "outputs": [
    {
     "name": "stdin",
     "output_type": "stream",
     "text": [
      "Enter the integer -1\n"
     ]
    },
    {
     "name": "stdout",
     "output_type": "stream",
     "text": [
      "The number is negative\n"
     ]
    }
   ],
   "source": [
    "integer = int(input(\"Enter the integer\"))\n",
    "if integer > 0:\n",
    "    if integer % 2 == 0:\n",
    "        print(\"The number is positive and even number\")\n",
    "    else:\n",
    "        print(\"The number is positive and odd number\")\n",
    "elif integer < 0:\n",
    "    print(\"The number is negative\")\n",
    "else:\n",
    "    print(\"The number is zero\")"
   ]
  },
  {
   "cell_type": "markdown",
   "id": "c34780ad-c3ff-4541-aea1-5a128757085e",
   "metadata": {},
   "source": [
    "### With AND and OR operator\n",
    "#### Question 1: Age and Membership Status\n",
    "Question:\n",
    "Write a program that determines if a person is eligible for a senior citizen discount. The criteria are:\n",
    "The person must be at least 65 years old or be a member of a senior citizen club.\n",
    "If they are 65 or older, they get the discount.\n",
    "If they are a club member but younger than 65, they also get the discount.\n",
    "Determine if the person is eligible for the discount based on these criteria."
   ]
  },
  {
   "cell_type": "code",
   "execution_count": 102,
   "id": "41e9d700-a4e2-4129-b0ef-bc302fea1eb7",
   "metadata": {},
   "outputs": [
    {
     "name": "stdin",
     "output_type": "stream",
     "text": [
      "Enter your age:  50\n",
      "Enter true/false if you are a senior citizen:  true\n"
     ]
    },
    {
     "name": "stdout",
     "output_type": "stream",
     "text": [
      "Eligible for the discount\n"
     ]
    }
   ],
   "source": [
    "age = int(input(\"Enter your age: \"))\n",
    "senior_citizen = input(\"Enter true/false if you are a senior citizen: \")\n",
    "\n",
    "senior_citizen = senior_citizen.lower() == 'true'\n",
    "\n",
    "if age >= 65 or senior_citizen:\n",
    "    print(\"Eligible for the discount\")\n",
    "else:\n",
    "    print(\"Not eligible for discount\")"
   ]
  },
  {
   "cell_type": "markdown",
   "id": "72521ed5-6d3a-4100-86d9-1f3f63943955",
   "metadata": {},
   "source": [
    "#### Question 2: Course Enrollment Eligibility\n",
    "Question:\n",
    "Write a program that checks if a student is eligible to enroll in an advanced course. The criteria are:\n",
    "\n",
    "The student must have a GPA of 3.5 or higher and have completed all prerequisite courses.\n",
    "If the student meets both conditions, they are eligible to enroll.\n",
    "Determine if the student is eligible based on these criteria."
   ]
  },
  {
   "cell_type": "code",
   "execution_count": 6,
   "id": "03482942-1896-4f79-b4c5-f88a5a26494b",
   "metadata": {},
   "outputs": [
    {
     "name": "stdin",
     "output_type": "stream",
     "text": [
      "Enter you GPA:  3.4\n",
      "Pre-Requisite Courses Completed. Enter yes/no yes\n"
     ]
    },
    {
     "name": "stdout",
     "output_type": "stream",
     "text": [
      "Not Eligible to Enroll\n"
     ]
    }
   ],
   "source": [
    "student_gpa = float(input(\"Enter you GPA: \"))\n",
    "pre_requisite_courses = input(\"Pre-Requisite Courses Completed. Enter yes/no\")\n",
    "\n",
    "pre_requisite_courses = pre_requisite_courses.lower() == 'yes'\n",
    "\n",
    "if student_gpa >= 3.5 and pre_requisite_courses:\n",
    "    print(\"Eligible to Enroll\")\n",
    "else:\n",
    "    print(\"Not Eligible to Enroll\")"
   ]
  },
  {
   "cell_type": "markdown",
   "id": "9bb1852f-3b1a-4e3a-8b69-9e479ad1319f",
   "metadata": {},
   "source": [
    "### List\n",
    "#### Basic List Operations\n",
    "Question 1: Modifying and Accessing List Elements\n",
    "Task: You have a list of numbers representing scores in a game: scores = [10, 20, 30, 40, 50]. Your task is to:\n",
    "\n",
    "Increase the score of the second player by 5.\n",
    "Replace the last score with the number 60.\n",
    "Print the updated list."
   ]
  },
  {
   "cell_type": "code",
   "execution_count": 19,
   "id": "a8103de4-d834-4e74-baf1-17e4dadf5d9a",
   "metadata": {},
   "outputs": [
    {
     "name": "stdout",
     "output_type": "stream",
     "text": [
      "[10, 25, 30, 40, 60]\n",
      "5\n"
     ]
    }
   ],
   "source": [
    "scores = [10, 20, 30, 40, 50]\n",
    "scores[1] = 25  # Increasing the score of player 2 by 5\n",
    "scores.pop()\n",
    "scores.insert(4, 60) # Replacing the score of 50 by 60.\n",
    "print(scores)\n",
    "length = len(scores)\n",
    "print(length)"
   ]
  },
  {
   "cell_type": "markdown",
   "id": "736c2e1b-e4c5-4fd3-9525-fbd7f2c6c189",
   "metadata": {},
   "source": [
    "Question 2: Adding and Removing Elements\n",
    "Task: Consider the following list of tasks for the day: tasks = ['study', 'exercise', 'cook', 'clean']. Your task is to:\n",
    "\n",
    "Add a new task 'read' at the end of the list.\n",
    "Insert 'meeting' at the beginning of the list.\n",
    "Remove the 'cook' task from the list.\n",
    "Print the final list of tasks."
   ]
  },
  {
   "cell_type": "code",
   "execution_count": 25,
   "id": "8d62b442-a446-4be9-b760-6e939c5f3511",
   "metadata": {},
   "outputs": [
    {
     "name": "stdout",
     "output_type": "stream",
     "text": [
      "['meeting', 'study', 'exercise', 'clean', 'read']\n",
      "5\n"
     ]
    }
   ],
   "source": [
    "tasks = ['study','exercise','cook','clean']\n",
    "tasks.append('read') # append will include this 'read' in the end of the list\n",
    "tasks.insert(0,'meeting') # insert will include 'meeting' in the beginning of the list\n",
    "tasks.remove('cook') # remove will directly remove the item from the list\n",
    "print(tasks)\n",
    "length = len(tasks)\n",
    "print(length)"
   ]
  },
  {
   "cell_type": "markdown",
   "id": "f5be3012-e68f-4517-a3ab-7a792bafdf75",
   "metadata": {},
   "source": [
    "#### Comprehensive List Operations Question\n",
    "Task: You are managing a playlist of songs. The playlist currently contains the following songs:\n",
    "playlist = ['song1', 'song2', 'song3', 'song4', 'song5']\n",
    "Your tasks are as follows:\n",
    "\n",
    "Access and Print: Print the first and last song in the playlist.\n",
    "Modify: Change the name of the third song to 'new_song3'.\n",
    "Add: Add a new song 'song6' to the end of the playlist.\n",
    "Insert: Insert 'song0' at the beginning of the playlist.\n",
    "Remove: Remove 'song4' from the playlist.\n",
    "Print: Print the updated playlist."
   ]
  },
  {
   "cell_type": "code",
   "execution_count": 54,
   "id": "cb211b21-ed51-423b-8662-4f7420830109",
   "metadata": {},
   "outputs": [
    {
     "name": "stdout",
     "output_type": "stream",
     "text": [
      "First song:  song1 Last song:  song5\n",
      "First Song: song1 Last Song: song5\n",
      "['song0', 'song1', 'song2', 'song3', 'song5', 'song6']\n",
      "6\n"
     ]
    }
   ],
   "source": [
    "playlist = ['song1', 'song2', 'song3', 'song4', 'song5']\n",
    "first_song , last_song = playlist[0] , playlist[-1]\n",
    "print(\"First song: \", first_song , \"Last song: \", last_song)\n",
    "print(\"First Song:\", playlist[0] , \"Last Song:\",playlist[-1])\n",
    "playlist.append('song6')\n",
    "playlist.insert(0,'song0')\n",
    "playlist.remove('song4')\n",
    "print(playlist)\n",
    "length = len(playlist)\n",
    "print(length)"
   ]
  },
  {
   "cell_type": "code",
   "execution_count": null,
   "id": "b6b4728d-5459-4b5c-ba08-4ccd39f94156",
   "metadata": {},
   "outputs": [],
   "source": []
  }
 ],
 "metadata": {
  "kernelspec": {
   "display_name": "Python 3 (ipykernel)",
   "language": "python",
   "name": "python3"
  },
  "language_info": {
   "codemirror_mode": {
    "name": "ipython",
    "version": 3
   },
   "file_extension": ".py",
   "mimetype": "text/x-python",
   "name": "python",
   "nbconvert_exporter": "python",
   "pygments_lexer": "ipython3",
   "version": "3.11.5"
  }
 },
 "nbformat": 4,
 "nbformat_minor": 5
}
